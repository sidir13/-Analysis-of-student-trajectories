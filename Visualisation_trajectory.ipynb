{
 "cells": [
  {
   "cell_type": "code",
   "execution_count": 100,
   "id": "b1ea8c9e",
   "metadata": {},
   "outputs": [],
   "source": [
    "import time\n",
    "import pickle\n",
    "\n",
    "import numpy as np\n",
    "import matplotlib.pyplot as plt\n",
    "from tqdm.notebook import tqdm\n",
    "import Levenshtein\n",
    "\n",
    "from sklearn.decomposition import PCA\n",
    "from gensim.models import Doc2Vec\n",
    "\n",
    "from manage import jsonAttempts2data, jsonExercises2data\n",
    "from code2aes import Code2Aes\n",
    "from aes2vec import learnModel, inferVectors, read_corpus, data2cor\n"
   ]
  },
  {
   "cell_type": "markdown",
   "id": "df4f68f0",
   "metadata": {},
   "source": [
    "In this section we gonna load our data and model to get some visualisation of them\n",
    "In order to reproduce this work, all of the data need to be in the same format as ours."
   ]
  },
  {
   "cell_type": "code",
   "execution_count": 101,
   "id": "244e8b32",
   "metadata": {},
   "outputs": [],
   "source": [
    "# Data importations\n",
    "NC1014 = jsonAttempts2data('Datasets/NewCaledonia_1014.json')\n",
    "NCExercises = jsonExercises2data('Datasets/NewCaledonia_exercises.json')\n",
    "NC5690 = jsonAttempts2data('Datasets/NewCaledonia_5690.json')"
   ]
  },
  {
   "cell_type": "code",
   "execution_count": 102,
   "id": "bc0e6e4e",
   "metadata": {},
   "outputs": [],
   "source": [
    "# There is multiple \n",
    "NCExercises_corrected = {}\n",
    "list_used = []\n",
    "for ex in NCExercises:\n",
    "    if NCExercises[ex][\"funcname\"] not in list_used:\n",
    "        list_used.append(NCExercises[ex][\"funcname\"])\n",
    "        NCExercises_corrected[ex] = NCExercises[ex]"
   ]
  },
  {
   "cell_type": "code",
   "execution_count": 134,
   "id": "fa6e613a",
   "metadata": {},
   "outputs": [
    {
     "data": {
      "text/plain": [
       "56"
      ]
     },
     "execution_count": 134,
     "metadata": {},
     "output_type": "execute_result"
    }
   ],
   "source": []
  },
  {
   "cell_type": "code",
   "execution_count": 103,
   "id": "41c7fcd6",
   "metadata": {},
   "outputs": [],
   "source": [
    "# Dictionary that maps the encoded exercise to its real name\n",
    "exercice_name_dict = {}\n",
    "list_exo = list(NCExercises.values())\n",
    "for exo in list_exo:\n",
    "    # key : encoded name, value : real name of exercise\n",
    "    exercice_name_dict[exo[\"exo_name\"]] = exo[\"funcname\"] \n",
    "list_exo = list(set(exercice_name_dict.values()))"
   ]
  },
  {
   "cell_type": "code",
   "execution_count": 104,
   "id": "aeaec473",
   "metadata": {},
   "outputs": [],
   "source": [
    "# Dictionary that maps the real name to the encoded exercise\n",
    "exercice_name_dict_inv = {}\n",
    "for exo in exercice_name_dict:\n",
    "    if exercice_name_dict[exo] not in exercice_name_dict_inv: \n",
    "        exercice_name_dict_inv[exercice_name_dict[exo]] = [exo]\n",
    "    else:\n",
    "        exercice_name_dict_inv[exercice_name_dict[exo]].append(exo)"
   ]
  },
  {
   "cell_type": "markdown",
   "id": "58ce657d",
   "metadata": {},
   "source": [
    "# Embedding methode"
   ]
  },
  {
   "cell_type": "code",
   "execution_count": 105,
   "id": "5780d58e",
   "metadata": {},
   "outputs": [],
   "source": [
    "def loadModel(model_path):\n",
    "    \"\"\"Load a saved Doc2Vec model from disk\"\"\"\n",
    "    model = Doc2Vec.load(model_path)\n",
    "    return model"
   ]
  },
  {
   "cell_type": "code",
   "execution_count": 106,
   "id": "a588f7d1",
   "metadata": {},
   "outputs": [],
   "source": [
    "def get_all_inferVectors(model, data):\n",
    "    \"\"\"Infer new embedding vectors of full the dataset given a pre-trained model\n",
    "    - model          : the pre-trained model (typically obtaind by learnModel())\n",
    "    - data           : the dataset containing learners' attempts\n",
    "    \"\"\"\n",
    "    for i in range(len(data)):\n",
    "        if data[i][\"eval_set\"] != \"test\":\n",
    "            data[i][\"eval_set\"] = \"test\"\n",
    "    res = inferVectors(model,data)\n",
    "    return res"
   ]
  },
  {
   "cell_type": "code",
   "execution_count": 107,
   "id": "0c5ded52",
   "metadata": {},
   "outputs": [],
   "source": [
    "def get_correction(data_correction):\n",
    "    \"\"\"\n",
    "    We suppose that data_correction has the same format as our data: NCExercises.\n",
    "    This function transforms data_correction into a list of attempts.\n",
    "    Each attempt is a dictionary with level 2 AES, the exercise code, and the eval set for inference.\n",
    "    \n",
    "    - data_correction : dict that containt the correction, exercise name mainly\n",
    "    - return list\n",
    "    \"\"\"\n",
    "    correction_list = []\n",
    "    for exercise in data_correction:\n",
    "        correction_to_aes = {}\n",
    "        correction_to_aes[\"upload\"] = data_correction[exercise][\"solution\"]\n",
    "        correction_to_aes[\"exercise_name\"] = exercise\n",
    "        correction_list.append(correction_to_aes)\n",
    "        \n",
    "    list_aes = []\n",
    "    for exercise in correction_list:\n",
    "         list_aes.append(Code2Aes(exercise,data_correction)\n",
    "                        )\n",
    "\n",
    "    for i in range(len(list_aes)):\n",
    "        correction_list[i][\"aes2\"] = list_aes[i]\n",
    "        correction_list[i][\"eval_set\"] = \"test\"\n",
    "    return correction_list"
   ]
  },
  {
   "cell_type": "code",
   "execution_count": null,
   "id": "0bb90ee8",
   "metadata": {},
   "outputs": [],
   "source": []
  },
  {
   "cell_type": "code",
   "execution_count": 108,
   "id": "776efb11",
   "metadata": {},
   "outputs": [],
   "source": [
    "# Load our Doc2vec model trained by data : NC590\n",
    "model_path = \"Datasets/model_NC590\"\n",
    "model = loadModel(model_path)"
   ]
  },
  {
   "cell_type": "code",
   "execution_count": 109,
   "id": "5ec426e3",
   "metadata": {},
   "outputs": [],
   "source": [
    "# list of data of correction of exercise useful for inference\n",
    "correction_list = get_correction(NCExercises_corrected)"
   ]
  },
  {
   "cell_type": "code",
   "execution_count": 110,
   "id": "1daa8a99",
   "metadata": {},
   "outputs": [],
   "source": [
    "# We get our embedding here and we calcute the inference time\n",
    "\n",
    "\n",
    "compute_emb = True # Put a False if you want to recalculate your embedding\n",
    "\n",
    "if compute_emb:\n",
    "    results = list(np.load('Datasets/results.npy'))\n",
    "    results_corr = list(np.load('Datasets/results_corr.npy'))\n",
    "else:\n",
    "    start_time = time.time() \n",
    "    results = get_all_inferVectors(model, NC5690)\n",
    "    results_corr = get_all_inferVectors(model, correction_list)\n",
    "    end_time = time.time()  \n",
    "    execution_time = end_time - start_time \n",
    "    print(f\"execution time : {execution_time/60} minutes\")"
   ]
  },
  {
   "cell_type": "code",
   "execution_count": null,
   "id": "589a84a9",
   "metadata": {},
   "outputs": [],
   "source": []
  },
  {
   "cell_type": "code",
   "execution_count": 111,
   "id": "92893b52",
   "metadata": {},
   "outputs": [],
   "source": [
    "def get_data_visualisation(data, dict_decoded = exercice_name_dict, name_encoded = True):\n",
    "    \"\"\"\n",
    "    From the data, we creat many dictionnary to get, exercise by exercise, the embedding, the correction, the timestamp, the student id and the attemp\n",
    "    \n",
    "    - data : dictionnary\n",
    "    - name_encoded : bool var. Put True if exo name is encoded\n",
    "    - dict_decoded : dictionnary used to decoded the exo name\n",
    "    - return list of dictionnary used for visualisation\n",
    "    \"\"\"\n",
    "    dict_exo_trajectory = {} # keep a list of the embedding of attemps\n",
    "    dict_exo_trajectory_correct = {} # keep a list of value 0 and 1. 0 if attemp is wrong 1 if good\n",
    "    dict_exo_trajectory_date = {}  # keep a list of the timestamps of attemps\n",
    "    dict_exo_trajectory_student = {}  # keep a list of student id \n",
    "    dict_exo_trajectory_code = {}  # keep a list of attemps\n",
    "    for i, attemp in enumerate(data):\n",
    "        if name_encoded: # if exo name is encoded\n",
    "            exo_encoded = attemp[\"exercise_name\"]\n",
    "            exo = dict_decoded[exo_encoded]\n",
    "        else:\n",
    "            exo = attemp[\"exercise_name\"]\n",
    "        if exo not in dict_exo_trajectory:\n",
    "            # creat an empty list where we gonna keep all the data, exercise by exercise\n",
    "            dict_exo_trajectory[exo] = []\n",
    "            dict_exo_trajectory_correct[exo] = []\n",
    "            dict_exo_trajectory_date[exo] = []\n",
    "            dict_exo_trajectory_student[exo] = []\n",
    "            dict_exo_trajectory_code[exo] = []\n",
    "        dict_exo_trajectory[exo].append(results[i]) # get embedding\n",
    "        dict_exo_trajectory_correct[exo].append(int(attemp[\"correct\"])) # get if attemp is wrong or good\n",
    "        dict_exo_trajectory_date[exo].append(attemp[\"date\"]) # get timestamp\n",
    "        dict_exo_trajectory_student[exo].append(attemp[\"user\"]) # get user id\n",
    "        dict_exo_trajectory_code[exo].append(attemp[\"upload\"]) # get the attemp\n",
    "    data_visualisation = [dict_exo_trajectory, dict_exo_trajectory_correct, dict_exo_trajectory_date, dict_exo_trajectory_student, dict_exo_trajectory_code]\n",
    "    return data_visualisation\n",
    "\n",
    "\n",
    "def sort_data(data_visualisation):\n",
    "    \"\"\"\n",
    "    Sort data by the timestamps of attemps\n",
    "    \n",
    "    - data_visualisation : list of dictionnary that contain embbeding, correction, date, student id and attemps\n",
    "    - return data_visualisation : same list but sorted by the date\n",
    "    \"\"\"\n",
    "    \n",
    "    # Decompose the list if different dictionnary\n",
    "    trajectory, correct, date, student, code = data_visualisation\n",
    "    for exo in trajectory.keys():\n",
    "        list_emb = trajectory[exo]\n",
    "        valeurs_alpha = correct[exo]\n",
    "        unique_labels = student[exo]\n",
    "        list_date = date[exo]\n",
    "        list_code = code[exo]\n",
    "        if list_emb != []:\n",
    "            data_combined = zip(list_date, list_emb, valeurs_alpha, unique_labels, list_code)\n",
    "            # Sort data by theirs timestamps\n",
    "            data_combined = sorted(data_combined, key=lambda x: x[0])\n",
    "            # Distribute the sorted elements back into the original lists\n",
    "            list_date, list_emb, valeurs_alpha, unique_labels, list_code = zip(*data_combined)\n",
    "            # Remplace old values by sorted values\n",
    "            trajectory[exo] = list(list_emb)\n",
    "            correct[exo] = list(valeurs_alpha)\n",
    "            student[exo] = list(unique_labels)\n",
    "            date[exo] = list(list_date)\n",
    "            code[exo] = list(list_code)\n",
    "    data_visualisation = trajectory, correct, date, student, code \n",
    "    return data_visualisation\n",
    "\n",
    "\n",
    "def correction_in_attemps(data_visualisation, data_correction, dict_decoded = exercice_name_dict, encoded_exo = True):\n",
    "    \"\"\"\n",
    "    Add correction in all of the atemps, exercise by exercise\n",
    "    \n",
    "    - data_visualisation : list of dictionnary that contain embbeding, correction, date, student id and attemps\n",
    "    - data_correction : dict that containt the correction, exercise name mainly\n",
    "    - exercice_name_dict : dictionnary used to decod the encoded exercise name\n",
    "    - Return data_visualisation : same list but with correction added\n",
    "    \"\"\"\n",
    "    trajectory, correct, date, student, code = data_visualisation\n",
    "    for i, exo_name in enumerate(data_correction):\n",
    "        correction_prof = data_correction[exo_name][\"solution\"]\n",
    "        if encoded_exo:\n",
    "            exo_name = dict_decoded[exo_name]\n",
    "        trajectory[exo_name].append(results_corr[i]) # Add the embedding of the correction\n",
    "        correct[exo_name].append(1) # Add 1. We considere this attemp as good\n",
    "        student[exo_name].append(\"correction\") # Add the label correction instead of user id\n",
    "        date[exo_name].append(date) # Add random date, not important\n",
    "        code[exo_name].append(correction_prof) # Add the code\n",
    "    data_visualisation = trajectory, correct, date, student, code \n",
    "    return data_visualisation \n",
    "\n",
    "def get_data_visualisation_completed(data, data_correction):\n",
    "    \"\"\"\n",
    "    Re-use all of the previous function to get the final data for visualisation\n",
    "    \"\"\"\n",
    "    data_visualisation = get_data_visualisation(data)\n",
    "    data_visualisation = sort_data(data_visualisation)   \n",
    "    data_visualisation = correction_in_attemps(data_visualisation, data_correction)\n",
    "    return data_visualisation"
   ]
  },
  {
   "cell_type": "code",
   "execution_count": 112,
   "id": "988a8813",
   "metadata": {},
   "outputs": [],
   "source": [
    "data_visualisation = get_data_visualisation_completed(NC5690, NCExercises_corrected)"
   ]
  },
  {
   "cell_type": "code",
   "execution_count": 113,
   "id": "d1726e34",
   "metadata": {},
   "outputs": [],
   "source": [
    "saved_data = False # Put at True if you want to save the data\n",
    "if saved_data:\n",
    "    with open('Datasets\\data_visualisation.pkl', 'wb') as fichier:\n",
    "        pickle.dump(data_visualisation, fichier)\n",
    "else:\n",
    "    with open('Datasets\\data_visualisation.pkl', 'rb') as fichier:\n",
    "        data_visualisation = pickle.load(fichier)"
   ]
  },
  {
   "cell_type": "code",
   "execution_count": null,
   "id": "a9377423",
   "metadata": {},
   "outputs": [],
   "source": []
  },
  {
   "cell_type": "code",
   "execution_count": 114,
   "id": "a637bf43",
   "metadata": {},
   "outputs": [],
   "source": [
    "def plot_data_PCA(data_visualisation, max_student = 10, max_attemps = 40):\n",
    "    \"\"\"\n",
    "    Plot the trajectory of attemps, exercise by exercise\n",
    "    \n",
    "    - data_visualisation : list of dictionnary that contain embbeding, correction, date, student id and attemps\n",
    "    - max_student : number max of students we can find by exercise\n",
    "    - max_attemps : number max of attemps we can find by exercise\n",
    "    \"\"\"\n",
    "    trajectory, correct, date, student, code = data_visualisation\n",
    "    for exo in trajectory.keys():\n",
    "        list_emb = trajectory[exo] \n",
    "        # Control the transparency of the points. \n",
    "        # If 1, the point won't be transparent, else he will be a bit transparent in the graph\n",
    "        valeurs_alpha = correct[exo] \n",
    "        unique_labels = student[exo] # list of different label : id_student and correction\n",
    "        list_date = date[exo]\n",
    "        # To ensure a readable graph, we limit the number of students and attempts\n",
    "        if len(set(unique_labels)) < max_student and len(list_emb) < max_attemps:\n",
    "            data_array = np.array(list_emb)\n",
    "            n_samples = data_array.shape[0]\n",
    "            perplexity = min(n_samples - 1, 30)  \n",
    "\n",
    "            # Utiliser t-SNE avec perplexité appropriée\n",
    "            pca = PCA(n_components=2, random_state=42)\n",
    "            X_transformed = pca.fit_transform(data_array)\n",
    "\n",
    "            # Label\n",
    "            cmap = plt.cm.tab10\n",
    "            label_color_map = {label: cmap(i) for i, label in enumerate(np.unique(unique_labels))}\n",
    "            alpha_values = [0.2 if val == 0 else 1 for val in valeurs_alpha]\n",
    "\n",
    "            # Create a new figure for each exercise\n",
    "            plt.figure()\n",
    "\n",
    "            # Plot all points at once\n",
    "            plotted_labels = set()  \n",
    "            for label in unique_labels:\n",
    "                if label not in plotted_labels: \n",
    "                    indices = [i for i, l in enumerate(unique_labels) if l == label]\n",
    "                    # Select the alpha values corresponding to the indices\n",
    "                    alpha_values_subset = [alpha_values[i] for i in indices] \n",
    "                    plt.scatter(X_transformed[indices, 0], X_transformed[indices, 1], alpha=alpha_values_subset, color=label_color_map[label], label=label, s=50)\n",
    "                    # Add the label to the set of labels already added\n",
    "                    plotted_labels.add(label) \n",
    "\n",
    "                    # Add arrows by connecting each consecutive point\n",
    "                    for i in range(len(indices) - 1):\n",
    "                        premier_point = (X_transformed[indices[i], 0], X_transformed[indices[i], 1])\n",
    "                        dernier_point = (X_transformed[indices[i + 1], 0], X_transformed[indices[i + 1], 1])\n",
    "                        plt.annotate('', xy=dernier_point, xytext=premier_point,\n",
    "                                     arrowprops=dict(facecolor=label_color_map[label], edgecolor=label_color_map[label], arrowstyle='->', linewidth=1))\n",
    "\n",
    "            # Add legend\n",
    "            plt.legend(bbox_to_anchor=(1.05, 1), loc='upper left')\n",
    "            plt.title(f\"Exercice {exo}\")\n",
    "\n",
    "            # Show the plot for this exercise\n",
    "            plt.show()\n"
   ]
  },
  {
   "cell_type": "code",
   "execution_count": 115,
   "id": "092b9272",
   "metadata": {},
   "outputs": [
    {
     "data": {
      "image/png": "[encoded data removed]",
      "text/plain": [
       "<Figure size 640x480 with 1 Axes>"
      ]
     },
     "metadata": {},
     "output_type": "display_data"
    },
    {
     "data": {
      "image/png": "[encoded data removed]",
      "text/plain": [
       "<Figure size 640x480 with 1 Axes>"
      ]
     },
     "metadata": {},
     "output_type": "display_data"
    },
    {
     "data": {
      "image/png": "[encoded data removed]",
      "text/plain": [
       "<Figure size 640x480 with 1 Axes>"
      ]
     },
     "metadata": {},
     "output_type": "display_data"
    },
    {
     "data": {
      "image/png": "[encoded data removed]",
      "text/plain": [
       "<Figure size 640x480 with 1 Axes>"
      ]
     },
     "metadata": {},
     "output_type": "display_data"
    },
    {
     "name": "stderr",
     "output_type": "stream",
     "text": [
      "\n",
      "KeyboardInterrupt\n",
      "\n"
     ]
    }
   ],
   "source": [
    "plot_data_PCA(data_visualisation)"
   ]
  },
  {
   "cell_type": "markdown",
   "id": "8c488eb9",
   "metadata": {},
   "source": [
    "We saw in this section the visualisation of the trajectory of students's attemps using the pure embedding methode. We will see In the next section, we will see the similarity methode using the embedding."
   ]
  },
  {
   "cell_type": "markdown",
   "id": "f0147752",
   "metadata": {},
   "source": [
    "# Compute the trajectories for cos² and lev"
   ]
  },
  {
   "cell_type": "code",
   "execution_count": 127,
   "id": "fbbb862a",
   "metadata": {},
   "outputs": [],
   "source": [
    "def compute_trajectory_cos(data, data_corr, embedding = results, embedding_corr = results_corr, dict_decoded = exercice_name_dict, name_encoded = True):\n",
    "    \"\"\"\n",
    "    Creat a dictionnary of trajectories (composed of embedding)\n",
    "    \n",
    "    \"\"\"\n",
    "    trajec = {}\n",
    "    for i, attemps in enumerate(data):\n",
    "        if name_encoded:\n",
    "            exercise = dict_decoded[attemps[\"exercise_name\"]]\n",
    "        else:\n",
    "            exercise = attemps[\"exercise_name\"]\n",
    "        student = attemps[\"user\"]\n",
    "        if exercise not in trajec:\n",
    "            trajec[exercise] = {}\n",
    "        if student not in trajec[exercise]:\n",
    "            trajec[exercise][student] = []\n",
    "        trajec[exercise][student].append(embedding[i])\n",
    "    for i, exercise in enumerate(data_corr):\n",
    "        if name_encoded:\n",
    "            exercise = dict_decoded[exercise]\n",
    "        trajec[exercise][\"correction\"] = embedding_corr[i]\n",
    "    return trajec\n",
    "\n",
    "\n",
    "\n",
    "# similarity measure \n",
    "def cos2(x,y):\n",
    "    \"\"\"\n",
    "    Similarity measure\n",
    "    Return : float between 0 and 1\n",
    "    A value of 1 indicates that x and y are similar, while a value of 0 indicates that they are not.\n",
    "    \"\"\"\n",
    "    prod = np.dot(x,y)\n",
    "    norm1 =  np.linalg.norm(x)\n",
    "    norm2 =  np.linalg.norm(y)\n",
    "    cos2 = prod / (norm1 * norm2)\n",
    "    return cos2 ** 2\n",
    "\n",
    "\n",
    "\n",
    "def trajectory_cos_(trajec_cos):\n",
    "    trajectory_cos = {}\n",
    "    for exercise in trajec_cos:\n",
    "        trajectory_cos[exercise] = {}\n",
    "        for user in trajec_cos[exercise]:\n",
    "            if user != \"correction\":\n",
    "                if user not in trajectory_cos[exercise]:\n",
    "                    trajectory_cos[exercise][user] = []\n",
    "                list_attemps = trajec_cos[exercise][user]\n",
    "                correction = trajec_cos[exercise][\"correction\"]\n",
    "                for attemp in list_attemps:\n",
    "                    trajectory_cos[exercise][user].append(cos2(attemp,correction))\n",
    "    return trajectory_cos"
   ]
  },
  {
   "cell_type": "code",
   "execution_count": 128,
   "id": "c193da80",
   "metadata": {},
   "outputs": [],
   "source": [
    "trajectory_cos = trajectory_cos_(compute_trajectory_cos(NC5690,NCExercises))\n",
    "with open('Datasets/trajectory_cos.pkl', 'wb') as fichier:\n",
    "    pickle.dump(trajectory_cos, fichier)"
   ]
  },
  {
   "cell_type": "code",
   "execution_count": 129,
   "id": "95e74c6d",
   "metadata": {},
   "outputs": [],
   "source": [
    "def compute_trajectory_lev(data, data_corr, embedding = results, embedding_corr = results_corr, dict_decoded = exercice_name_dict, name_encoded = True):\n",
    "    \"\"\"\n",
    "    Creat a dictionnary of trajectories (composed of embedding)\n",
    "    \n",
    "    \"\"\"\n",
    "    trajec = {}\n",
    "    for i, attemps in enumerate(data):\n",
    "        if name_encoded:\n",
    "            exercise = dict_decoded[attemps[\"exercise_name\"]]\n",
    "        else:\n",
    "            exercise = attemps[\"exercise_name\"]\n",
    "        student = attemps[\"user\"]\n",
    "        if exercise not in trajec:\n",
    "            trajec[exercise] = {}\n",
    "        if student not in trajec[exercise]:\n",
    "            trajec[exercise][student] = []\n",
    "        trajec[exercise][student].append(attemps[\"upload\"])\n",
    "    for i, exercise in enumerate(data_corr):\n",
    "        correction = data_corr[exercise][\"solution\"]\n",
    "        if name_encoded:\n",
    "            exercise = dict_decoded[exercise]\n",
    "        trajec[exercise][\"correction\"] = correction\n",
    "    return trajec\n",
    "\n",
    "\n",
    "\n",
    "def trajectory_lev_(trajec_lev):\n",
    "    trajectory_lev = {}\n",
    "    for exercise in trajec_lev:\n",
    "        trajectory_lev[exercise] = {}\n",
    "        for user in trajec_lev[exercise]:\n",
    "            if user != \"correction\":\n",
    "                if user not in trajectory_lev[exercise]:\n",
    "                    trajectory_lev[exercise][user] = []\n",
    "                list_attemps = trajec_lev[exercise][user]\n",
    "                correction = trajec_lev[exercise][\"correction\"]\n",
    "                for attemp in list_attemps:\n",
    "                    trajectory_lev[exercise][user].append(Levenshtein.distance(attemp,correction))\n",
    "    return trajectory_lev"
   ]
  },
  {
   "cell_type": "code",
   "execution_count": 130,
   "id": "13797cdc",
   "metadata": {},
   "outputs": [],
   "source": [
    "trajectory_lev = trajectory_lev_(compute_trajectory_lev(NC5690,NCExercises))\n",
    "with open('Datasets/trajectory_lev.pkl', 'wb') as fichier:\n",
    "    pickle.dump(trajectory_lev, fichier)"
   ]
  },
  {
   "cell_type": "code",
   "execution_count": 131,
   "id": "10f7e4de",
   "metadata": {},
   "outputs": [],
   "source": [
    "def compute_trajectory_date(data, data_corr, embedding = results, embedding_corr = results_corr, dict_decoded = exercice_name_dict, name_encoded = True):\n",
    "    \"\"\"\n",
    "    Creat a dictionnary of trajectories (composed of embedding)\n",
    "    \n",
    "    \"\"\"\n",
    "    trajec_date = {}\n",
    "    for i, attemps in enumerate(data):\n",
    "        if name_encoded:\n",
    "            exercise = dict_decoded[attemps[\"exercise_name\"]]\n",
    "        else:\n",
    "            exercise = attemps[\"exercise_name\"]\n",
    "        student = attemps[\"user\"]\n",
    "        if exercise not in trajec_date:\n",
    "            trajec_date[exercise] = {}\n",
    "        if student not in trajec_date[exercise]:\n",
    "            trajec_date[exercise][student] = []\n",
    "        trajec_date[exercise][student].append(attemps[\"date\"])\n",
    "    return trajec_date"
   ]
  },
  {
   "cell_type": "code",
   "execution_count": 132,
   "id": "ff887d80",
   "metadata": {},
   "outputs": [],
   "source": [
    "trajec_date = compute_trajectory_date(NC5690,NCExercises)\n",
    "with open('Datasets/trajectory_date.pkl', 'wb') as fichier:\n",
    "    pickle.dump(trajec_date, fichier)"
   ]
  },
  {
   "cell_type": "markdown",
   "id": "fa11b171",
   "metadata": {},
   "source": [
    "# Similarity methode : cos² between embedding"
   ]
  },
  {
   "cell_type": "markdown",
   "id": "589dfb76",
   "metadata": {},
   "source": [
    "First we need to transforme our data in order to compute of wanted visualisation"
   ]
  },
  {
   "cell_type": "code",
   "execution_count": null,
   "id": "48549edd",
   "metadata": {},
   "outputs": [],
   "source": [
    "def get_attemps_students(data, dict_decoded = exercice_name_dict, name_encoded = True):\n",
    "    \"\"\"\n",
    "    Create a dictionary of dictionaries where attempts are organized by student and exercise.\n",
    "    - data: A list of dictionaries representing attempts.\"\n",
    "    return dictionnaries organized by student and exercise. \n",
    "    Dictionnaries contains the embedding, the timestamp and the evaluation of atttemps\n",
    "    \"\"\"\n",
    "    attemps_emb = {}\n",
    "    attemps_correct = {}\n",
    "    attemps_date = {}\n",
    "    attemps_code = {}\n",
    "    for i, attemps in enumerate(data):\n",
    "        student = attemps[\"user\"]\n",
    "        if name_encoded:\n",
    "            exercise = dict_decoded[attemps[\"exercise_name\"]]\n",
    "        else:\n",
    "            exercise = attemps[\"exercise_name\"]\n",
    "        # Check if the student and exercise name key are in ours dictionnaries. If not creat a list to stock our data\n",
    "        if student not in attemps_emb:\n",
    "            attemps_emb[student] = {}\n",
    "            attemps_correct[student] = {}\n",
    "            attemps_date[student] = {}\n",
    "            attemps_code[student] = {}\n",
    "        if exercise not in attemps_emb[student]:\n",
    "            attemps_emb[student][exercise] = []\n",
    "            attemps_correct[student][exercise] = []\n",
    "            attemps_date[student][exercise] = []\n",
    "            attemps_code[student][exercise] = []\n",
    "        # Add the necessary data : embedding, evaluation, timestamp\n",
    "        attemps_emb[student][exercise].append(results[i])\n",
    "        attemps_correct[student][exercise].append(int(attemps[\"correct\"]))\n",
    "        attemps_date[student][exercise].append(attemps[\"date\"])\n",
    "        attemps_code[student][exercise].append(attemps[\"upload\"])\n",
    "    return [attemps_emb, attemps_correct, attemps_date, attemps_code]"
   ]
  },
  {
   "cell_type": "code",
   "execution_count": null,
   "id": "210d2496",
   "metadata": {},
   "outputs": [],
   "source": [
    "def sort_attemps_students(attemps_students):\n",
    "    \"\"\"\n",
    "    Sort data by the timestamps of attemps\n",
    "    \n",
    "    - attemps_students : list of dictionnary that contain embbeding, correction, date and attemps\n",
    "    - return attemps_students : same list but sorted by the date\n",
    "    \"\"\"\n",
    "    \n",
    "    # Decompose the list if different dictionnary\n",
    "    attemps_emb, attemps_correct, attemps_date, attemps_code = attemps_students\n",
    "    for student in attemps_emb:\n",
    "        for exo in attemps_emb[student]:\n",
    "            list_emb = attemps_emb[student][exo]\n",
    "            valeurs_alpha = attemps_correct[student][exo]\n",
    "            list_date = attemps_date[student][exo]\n",
    "            list_code = attemps_code[student][exo]\n",
    "            # Check if there is at least 1 attemps\n",
    "            if list_emb != []:\n",
    "                data_combined = zip(list_date, list_emb, valeurs_alpha, list_code)\n",
    "                # Sort data by theirs timestamps\n",
    "                data_combined = sorted(data_combined, key=lambda x: x[0])\n",
    "                # Distribute the sorted elements back into the original lists\n",
    "                list_date, list_emb, valeurs_alpha, list_code = zip(*data_combined)\n",
    "                # Remplace old values by sorted values\n",
    "                attemps_emb[student][exo] = list(list_emb)\n",
    "                attemps_correct[student][exo] = list(valeurs_alpha)\n",
    "                attemps_date[student][exo] = list(list_date)\n",
    "                attemps_code[student][exo] = list(list_code)\n",
    "    attemps_students  = attemps_emb, attemps_correct, attemps_date, attemps_code\n",
    "    return attemps_students"
   ]
  },
  {
   "cell_type": "code",
   "execution_count": null,
   "id": "f92595ba",
   "metadata": {},
   "outputs": [],
   "source": [
    "attemps_students = sort_attemps_students(get_attemps_students(NC5690))"
   ]
  },
  {
   "cell_type": "markdown",
   "id": "26425a02",
   "metadata": {},
   "source": [
    "Now that we have our data, we can calculate our similarity measure: cos²."
   ]
  },
  {
   "cell_type": "code",
   "execution_count": null,
   "id": "e5e2a7be",
   "metadata": {},
   "outputs": [],
   "source": [
    "# similarity measure \n",
    "def cos2(x,y):\n",
    "    \"\"\"\n",
    "    Similarity measure\n",
    "    Return : float between 0 and 1\n",
    "    A value of 1 indicates that x and y are similar, while a value of 0 indicates that they are not.\n",
    "    \"\"\"\n",
    "    prod = np.dot(x,y)\n",
    "    norm1 =  np.linalg.norm(x)\n",
    "    norm2 =  np.linalg.norm(y)\n",
    "    cos2 = prod / (norm1 * norm2)\n",
    "    return cos2 ** 2"
   ]
  },
  {
   "cell_type": "code",
   "execution_count": null,
   "id": "f305cfb6",
   "metadata": {},
   "outputs": [],
   "source": [
    "def data_similarity_cos(attemps_students, data_correction, list_exercise = list_exo):\n",
    "    \"\"\"\n",
    "    attemps_students: A list of data that includes the embedding, date, and evaluation for each student and exercise.\n",
    "    data_correction: A list of embeddings from the correction.\n",
    "    list_exo: A list of all exercises.\n",
    "    return: A dictionary containing a list of cos² values calculated between students' attempts and the correction.\n",
    "\n",
    "    \"\"\"\n",
    "    similarity_cos = {}\n",
    "    # attemps_students[0] corresponds to the dictionary with embedding data\n",
    "    for student in tqdm(attemps_students[0]):\n",
    "        similarity_cos[student] = {}\n",
    "        for i, exo in enumerate(list_exo):\n",
    "            if exo not in similarity_cos[student]:\n",
    "                similarity_cos[student][exo] = []\n",
    "            correction = data_correction[i]\n",
    "            if exo in attemps_students[0][student]:\n",
    "                list_attemps_emb = attemps_students[0][student][exo]\n",
    "                for attemps_emb in list_attemps_emb:\n",
    "                    similarity_value = cos2(attemps_emb, correction)\n",
    "                    similarity_cos[student][exo].append(similarity_value)\n",
    "    return similarity_cos"
   ]
  },
  {
   "cell_type": "code",
   "execution_count": null,
   "id": "efe4c7c2",
   "metadata": {},
   "outputs": [],
   "source": [
    "similarity_cos = data_similarity_cos(attemps_students, results_corr, list_exo)"
   ]
  },
  {
   "cell_type": "code",
   "execution_count": null,
   "id": "f23c1dc0",
   "metadata": {},
   "outputs": [],
   "source": [
    "def display_methode(similarity, attemps_students, min_attemps = 30):\n",
    "    evaluation_attemps = attemps_students[1] # Data indicating whether the attempts are correct or not.\n",
    "    for student in evaluation_attemps:\n",
    "        for exo in evaluation_attemps[student]:\n",
    "            list_similarity = similarity[student][exo]\n",
    "            evaluation_list = evaluation_attemps[student][exo]\n",
    "            if len(list_similarity) > min_attemps: # Display only if there is more than \n",
    "                plt.figure(figsize=(8, 4)) \n",
    "\n",
    "                # Draw list_cos with points\n",
    "                plt.scatter(range(len(list_similarity)), list_similarity, c=['blue' if evaluation == 1 else 'red' for evaluation in evaluation_list], alpha=1, label='Points')\n",
    "\n",
    "                # Draw lines connecting points\n",
    "                for i in range(len(list_similarity) - 1):\n",
    "                    plt.plot([i, i+1], [list_similarity[i], list_similarity[i+1]], color='gray', linestyle='-', linewidth=1)\n",
    "\n",
    "                plt.title(f\"Similarity for student {student}, exercise {exo}\", fontsize=14)\n",
    "                plt.xlabel(\"Attempt number\", fontsize=12)\n",
    "                plt.ylabel(\"Similarity\", fontsize=12)\n",
    "                plt.grid(True, linestyle='--', alpha=0.5)\n",
    "                plt.tight_layout()\n",
    "                plt.show()"
   ]
  },
  {
   "cell_type": "code",
   "execution_count": null,
   "id": "e715d564",
   "metadata": {},
   "outputs": [],
   "source": [
    "display_methode(similarity_cos, attemps_students, min_attemps = 30)"
   ]
  },
  {
   "cell_type": "markdown",
   "id": "d76c3e4f",
   "metadata": {},
   "source": [
    "With this visualization, we can track students' progress through their attempts. We can even identify some atypical attempts with a low cos² value that are still marked as correct. This could indicate a different approach to solving the exercise or a potential error in the evaluation."
   ]
  },
  {
   "cell_type": "markdown",
   "id": "fd571b62",
   "metadata": {},
   "source": [
    "Next, we'll view the same visualization, but this time using only the source code, with the Levenshtein distance as the similarity metric."
   ]
  },
  {
   "cell_type": "markdown",
   "id": "bdd5a199",
   "metadata": {},
   "source": [
    "# Similarity methode : Levenshtein between source code"
   ]
  },
  {
   "cell_type": "code",
   "execution_count": null,
   "id": "00ae7398",
   "metadata": {},
   "outputs": [],
   "source": [
    "def data_similarity_lev(attemps_students, data_correction, list_exercises = list_exo, encoded_exo = exercice_name_dict_inv, encoded_name = True):\n",
    "    \"\"\"\n",
    "    attemps_students: A list of data that includes the embedding, date, and evaluation for each student and exercise.\n",
    "    data_correction:A dictionary that contains the correction for every exercise\n",
    "    list_exo: A list of all exercises.\n",
    "    return: A dictionary containing a list of levenshtein distance values calculated between students' attempts and the correction.\n",
    "\n",
    "    \"\"\"\n",
    "    similarity_lev = {}\n",
    "    # attemps_students[0] corresponds to the dictionary with embedding data\n",
    "    for student in tqdm(attemps_students[-1]):\n",
    "        similarity_lev[student] = {}\n",
    "        list_used_exo = [] # To not reput the same exercise\n",
    "        for i, exo in enumerate(list_exercises):\n",
    "            if exo not in similarity_lev[student]:\n",
    "                similarity_lev[student][exo] = []\n",
    "            if encoded_name:\n",
    "                if exercice_name_dict_inv[exo][0] not in list_used_exo:\n",
    "                    correction = data_correction[exercice_name_dict_inv[exo][0]][\"solution\"] \n",
    "                    list_used_exo.append(exercice_name_dict_inv[exo][0])\n",
    "                # There is mutiple encoded name for the same exercise, \n",
    "                # we put the [0] since all this encoded way make reference of the same exercise\n",
    "            else:\n",
    "                correction = data_correction[exo][\"solution\"]\n",
    "            if exo in attemps_students[-1][student]:\n",
    "                list_attemps_code = attemps_students[-1][student][exo]\n",
    "                for attemps_code in list_attemps_code:\n",
    "                    similarity_value = Levenshtein.distance(attemps_code, correction)\n",
    "                    similarity_lev[student][exo].append(similarity_value)\n",
    "    return similarity_lev"
   ]
  },
  {
   "cell_type": "code",
   "execution_count": null,
   "id": "0f09f83d",
   "metadata": {},
   "outputs": [],
   "source": [
    "similarity_lev = data_similarity_lev(attemps_students, NCExercises_corrected)"
   ]
  },
  {
   "cell_type": "code",
   "execution_count": null,
   "id": "539e0e0c",
   "metadata": {},
   "outputs": [],
   "source": [
    "def trajecetory_lev(attemps_students, data_correction, list_exercises = list_exo, encoded_exo = exercice_name_dict_inv, encoded_name = True):\n",
    "    \"\"\"\n",
    "    attemps_students: A list of data that includes the embedding, date, and evaluation for each student and exercise.\n",
    "    data_correction:A dictionary that contains the correction for every exercise\n",
    "    list_exo: A list of all exercises.\n",
    "    return: A dictionary containing a list of levenshtein distance values calculated between students' attempts and the correction.\n",
    "\n",
    "    \"\"\"\n",
    "    trajectory_lev = {}\n",
    "    list_used_exo = [] # To not reput the same exercise\n",
    "    for i, exo in tqdm(enumerate(list_exercises)):\n",
    "        if exo not in trajectory_lev:\n",
    "            trajectory_lev[exo] = {}\n",
    "        for student in attemps_students[-1]:\n",
    "            if student not in trajectory_lev[exo]:\n",
    "                trajectory_lev[exo][student] = []\n",
    "                if encoded_name:\n",
    "                    if exercice_name_dict_inv[exo][0] not in list_used_exo:\n",
    "                        correction = data_correction[exercice_name_dict_inv[exo][0]][\"solution\"] \n",
    "                        list_used_exo.append(exercice_name_dict_inv[exo][0])\n",
    "                    # There is mutiple encoded name for the same exercise, \n",
    "                    # we put the [0] since all this encoded way make reference of the same exercise\n",
    "                else:\n",
    "                    correction = data_correction[exo][\"solution\"]\n",
    "                if exo in attemps_students[-1][student]:\n",
    "                    list_attemps_code = attemps_students[-1][student][exo]\n",
    "                    for attemps_code in list_attemps_code:\n",
    "                        similarity_value = Levenshtein.distance(attemps_code, correction)\n",
    "                        trajectory_lev[exo][student].append(similarity_value)\n",
    "        return trajectory_lev"
   ]
  },
  {
   "cell_type": "code",
   "execution_count": null,
   "id": "3dd5bfca",
   "metadata": {},
   "outputs": [],
   "source": [
    "trajectory_lev = trajecetory_lev(attemps_students, NCExercises_corrected)"
   ]
  },
  {
   "cell_type": "code",
   "execution_count": null,
   "id": "a0fba8dd",
   "metadata": {},
   "outputs": [],
   "source": [
    "if saved_data:\n",
    "    with open('Datasets/trajectory_lev.pkl', 'wb') as fichier:\n",
    "        pickle.dump(trajectory_lev, fichier)\n",
    "else:\n",
    "    with open('Datasets/trajectory_lev.pkl', 'rb') as fichier:\n",
    "        trajectory_lev = pickle.load(fichier)"
   ]
  },
  {
   "cell_type": "code",
   "execution_count": null,
   "id": "e7b3dcad",
   "metadata": {},
   "outputs": [],
   "source": [
    "display_methode(similarity_lev, attemps_students)"
   ]
  }
 ],
 "metadata": {
  "kernelspec": {
   "display_name": "Python 3 (ipykernel)",
   "language": "python",
   "name": "python3"
  },
  "language_info": {
   "codemirror_mode": {
    "name": "ipython",
    "version": 3
   },
   "file_extension": ".py",
   "mimetype": "text/x-python",
   "name": "python",
   "nbconvert_exporter": "python",
   "pygments_lexer": "ipython3",
   "version": "3.11.5"
  }
 },
 "nbformat": 4,
 "nbformat_minor": 5
}
